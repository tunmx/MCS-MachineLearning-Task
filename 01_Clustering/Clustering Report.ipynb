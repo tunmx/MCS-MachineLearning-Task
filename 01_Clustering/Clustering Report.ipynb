{
 "cells": [
  {
   "cell_type": "markdown",
   "id": "013ebbb6",
   "metadata": {},
   "source": [
    "# Clustering Report\n",
    "\n",
    "## Task: \n",
    "During this work, students need: \n",
    "\n",
    "1. Select a dataset for research yourself. It is recommended to use sklearn.datasets or Kaggle (in this case, be sure to attach it to the answer)\n",
    "2. Analyze this dataset using the Pandas library in order to detect gaps in the data and outliers in the data. If they are detected, it is necessary to process these data points\n",
    "3. Use the K-means clustering algorithm to cluster the data.\n",
    "4. Analyze the results and select the optimal metrics for calculating distances and the number of clusters\n",
    "\n",
    "- **Student**: Jingyu Yan"
   ]
  },
  {
   "cell_type": "markdown",
   "id": "248623a9",
   "metadata": {},
   "source": [
    "## Solutions\n",
    "\n",
    "### 1. Select a dataset\n",
    "\n",
    "I chose to use the **wine dataset** from sklearn.datasets for this experiment."
   ]
  },
  {
   "cell_type": "code",
   "execution_count": 1,
   "id": "7da6edec",
   "metadata": {},
   "outputs": [],
   "source": [
    "from sklearn import datasets\n",
    "import pandas as pd\n",
    "import numpy as np\n",
    "import matplotlib.pyplot as plt\n",
    "\n",
    "# Load 'wine_data' datasets\n",
    "wine_data = datasets.load_wine()\n",
    "# Create DataFrame\n",
    "wine_df = pd.DataFrame(data=wine_data.data, columns=wine_data.feature_names)"
   ]
  },
  {
   "cell_type": "markdown",
   "id": "aa07a427",
   "metadata": {},
   "source": [
    "Show the basic information about the dataset."
   ]
  },
  {
   "cell_type": "code",
   "execution_count": 2,
   "id": "282a2f53",
   "metadata": {},
   "outputs": [
    {
     "data": {
      "text/html": [
       "<div>\n",
       "<style scoped>\n",
       "    .dataframe tbody tr th:only-of-type {\n",
       "        vertical-align: middle;\n",
       "    }\n",
       "\n",
       "    .dataframe tbody tr th {\n",
       "        vertical-align: top;\n",
       "    }\n",
       "\n",
       "    .dataframe thead th {\n",
       "        text-align: right;\n",
       "    }\n",
       "</style>\n",
       "<table border=\"1\" class=\"dataframe\">\n",
       "  <thead>\n",
       "    <tr style=\"text-align: right;\">\n",
       "      <th></th>\n",
       "      <th>alcohol</th>\n",
       "      <th>malic_acid</th>\n",
       "      <th>ash</th>\n",
       "      <th>alcalinity_of_ash</th>\n",
       "      <th>magnesium</th>\n",
       "      <th>total_phenols</th>\n",
       "      <th>flavanoids</th>\n",
       "      <th>nonflavanoid_phenols</th>\n",
       "      <th>proanthocyanins</th>\n",
       "      <th>color_intensity</th>\n",
       "      <th>hue</th>\n",
       "      <th>od280/od315_of_diluted_wines</th>\n",
       "      <th>proline</th>\n",
       "    </tr>\n",
       "  </thead>\n",
       "  <tbody>\n",
       "    <tr>\n",
       "      <th>0</th>\n",
       "      <td>14.23</td>\n",
       "      <td>1.71</td>\n",
       "      <td>2.43</td>\n",
       "      <td>15.6</td>\n",
       "      <td>127.0</td>\n",
       "      <td>2.80</td>\n",
       "      <td>3.06</td>\n",
       "      <td>0.28</td>\n",
       "      <td>2.29</td>\n",
       "      <td>5.64</td>\n",
       "      <td>1.04</td>\n",
       "      <td>3.92</td>\n",
       "      <td>1065.0</td>\n",
       "    </tr>\n",
       "    <tr>\n",
       "      <th>1</th>\n",
       "      <td>13.20</td>\n",
       "      <td>1.78</td>\n",
       "      <td>2.14</td>\n",
       "      <td>11.2</td>\n",
       "      <td>100.0</td>\n",
       "      <td>2.65</td>\n",
       "      <td>2.76</td>\n",
       "      <td>0.26</td>\n",
       "      <td>1.28</td>\n",
       "      <td>4.38</td>\n",
       "      <td>1.05</td>\n",
       "      <td>3.40</td>\n",
       "      <td>1050.0</td>\n",
       "    </tr>\n",
       "    <tr>\n",
       "      <th>2</th>\n",
       "      <td>13.16</td>\n",
       "      <td>2.36</td>\n",
       "      <td>2.67</td>\n",
       "      <td>18.6</td>\n",
       "      <td>101.0</td>\n",
       "      <td>2.80</td>\n",
       "      <td>3.24</td>\n",
       "      <td>0.30</td>\n",
       "      <td>2.81</td>\n",
       "      <td>5.68</td>\n",
       "      <td>1.03</td>\n",
       "      <td>3.17</td>\n",
       "      <td>1185.0</td>\n",
       "    </tr>\n",
       "    <tr>\n",
       "      <th>3</th>\n",
       "      <td>14.37</td>\n",
       "      <td>1.95</td>\n",
       "      <td>2.50</td>\n",
       "      <td>16.8</td>\n",
       "      <td>113.0</td>\n",
       "      <td>3.85</td>\n",
       "      <td>3.49</td>\n",
       "      <td>0.24</td>\n",
       "      <td>2.18</td>\n",
       "      <td>7.80</td>\n",
       "      <td>0.86</td>\n",
       "      <td>3.45</td>\n",
       "      <td>1480.0</td>\n",
       "    </tr>\n",
       "    <tr>\n",
       "      <th>4</th>\n",
       "      <td>13.24</td>\n",
       "      <td>2.59</td>\n",
       "      <td>2.87</td>\n",
       "      <td>21.0</td>\n",
       "      <td>118.0</td>\n",
       "      <td>2.80</td>\n",
       "      <td>2.69</td>\n",
       "      <td>0.39</td>\n",
       "      <td>1.82</td>\n",
       "      <td>4.32</td>\n",
       "      <td>1.04</td>\n",
       "      <td>2.93</td>\n",
       "      <td>735.0</td>\n",
       "    </tr>\n",
       "    <tr>\n",
       "      <th>5</th>\n",
       "      <td>14.20</td>\n",
       "      <td>1.76</td>\n",
       "      <td>2.45</td>\n",
       "      <td>15.2</td>\n",
       "      <td>112.0</td>\n",
       "      <td>3.27</td>\n",
       "      <td>3.39</td>\n",
       "      <td>0.34</td>\n",
       "      <td>1.97</td>\n",
       "      <td>6.75</td>\n",
       "      <td>1.05</td>\n",
       "      <td>2.85</td>\n",
       "      <td>1450.0</td>\n",
       "    </tr>\n",
       "    <tr>\n",
       "      <th>6</th>\n",
       "      <td>14.39</td>\n",
       "      <td>1.87</td>\n",
       "      <td>2.45</td>\n",
       "      <td>14.6</td>\n",
       "      <td>96.0</td>\n",
       "      <td>2.50</td>\n",
       "      <td>2.52</td>\n",
       "      <td>0.30</td>\n",
       "      <td>1.98</td>\n",
       "      <td>5.25</td>\n",
       "      <td>1.02</td>\n",
       "      <td>3.58</td>\n",
       "      <td>1290.0</td>\n",
       "    </tr>\n",
       "    <tr>\n",
       "      <th>7</th>\n",
       "      <td>14.06</td>\n",
       "      <td>2.15</td>\n",
       "      <td>2.61</td>\n",
       "      <td>17.6</td>\n",
       "      <td>121.0</td>\n",
       "      <td>2.60</td>\n",
       "      <td>2.51</td>\n",
       "      <td>0.31</td>\n",
       "      <td>1.25</td>\n",
       "      <td>5.05</td>\n",
       "      <td>1.06</td>\n",
       "      <td>3.58</td>\n",
       "      <td>1295.0</td>\n",
       "    </tr>\n",
       "    <tr>\n",
       "      <th>8</th>\n",
       "      <td>14.83</td>\n",
       "      <td>1.64</td>\n",
       "      <td>2.17</td>\n",
       "      <td>14.0</td>\n",
       "      <td>97.0</td>\n",
       "      <td>2.80</td>\n",
       "      <td>2.98</td>\n",
       "      <td>0.29</td>\n",
       "      <td>1.98</td>\n",
       "      <td>5.20</td>\n",
       "      <td>1.08</td>\n",
       "      <td>2.85</td>\n",
       "      <td>1045.0</td>\n",
       "    </tr>\n",
       "    <tr>\n",
       "      <th>9</th>\n",
       "      <td>13.86</td>\n",
       "      <td>1.35</td>\n",
       "      <td>2.27</td>\n",
       "      <td>16.0</td>\n",
       "      <td>98.0</td>\n",
       "      <td>2.98</td>\n",
       "      <td>3.15</td>\n",
       "      <td>0.22</td>\n",
       "      <td>1.85</td>\n",
       "      <td>7.22</td>\n",
       "      <td>1.01</td>\n",
       "      <td>3.55</td>\n",
       "      <td>1045.0</td>\n",
       "    </tr>\n",
       "  </tbody>\n",
       "</table>\n",
       "</div>"
      ],
      "text/plain": [
       "   alcohol  malic_acid   ash  alcalinity_of_ash  magnesium  total_phenols  \\\n",
       "0    14.23        1.71  2.43               15.6      127.0           2.80   \n",
       "1    13.20        1.78  2.14               11.2      100.0           2.65   \n",
       "2    13.16        2.36  2.67               18.6      101.0           2.80   \n",
       "3    14.37        1.95  2.50               16.8      113.0           3.85   \n",
       "4    13.24        2.59  2.87               21.0      118.0           2.80   \n",
       "5    14.20        1.76  2.45               15.2      112.0           3.27   \n",
       "6    14.39        1.87  2.45               14.6       96.0           2.50   \n",
       "7    14.06        2.15  2.61               17.6      121.0           2.60   \n",
       "8    14.83        1.64  2.17               14.0       97.0           2.80   \n",
       "9    13.86        1.35  2.27               16.0       98.0           2.98   \n",
       "\n",
       "   flavanoids  nonflavanoid_phenols  proanthocyanins  color_intensity   hue  \\\n",
       "0        3.06                  0.28             2.29             5.64  1.04   \n",
       "1        2.76                  0.26             1.28             4.38  1.05   \n",
       "2        3.24                  0.30             2.81             5.68  1.03   \n",
       "3        3.49                  0.24             2.18             7.80  0.86   \n",
       "4        2.69                  0.39             1.82             4.32  1.04   \n",
       "5        3.39                  0.34             1.97             6.75  1.05   \n",
       "6        2.52                  0.30             1.98             5.25  1.02   \n",
       "7        2.51                  0.31             1.25             5.05  1.06   \n",
       "8        2.98                  0.29             1.98             5.20  1.08   \n",
       "9        3.15                  0.22             1.85             7.22  1.01   \n",
       "\n",
       "   od280/od315_of_diluted_wines  proline  \n",
       "0                          3.92   1065.0  \n",
       "1                          3.40   1050.0  \n",
       "2                          3.17   1185.0  \n",
       "3                          3.45   1480.0  \n",
       "4                          2.93    735.0  \n",
       "5                          2.85   1450.0  \n",
       "6                          3.58   1290.0  \n",
       "7                          3.58   1295.0  \n",
       "8                          2.85   1045.0  \n",
       "9                          3.55   1045.0  "
      ]
     },
     "execution_count": 2,
     "metadata": {},
     "output_type": "execute_result"
    }
   ],
   "source": [
    "# Look at the first 10 rows of data\n",
    "wine_df.head(10)"
   ]
  },
  {
   "cell_type": "code",
   "execution_count": 3,
   "id": "7cfef571",
   "metadata": {},
   "outputs": [
    {
     "name": "stdout",
     "output_type": "stream",
     "text": [
      "<class 'pandas.core.frame.DataFrame'>\n",
      "RangeIndex: 178 entries, 0 to 177\n",
      "Data columns (total 13 columns):\n",
      " #   Column                        Non-Null Count  Dtype  \n",
      "---  ------                        --------------  -----  \n",
      " 0   alcohol                       178 non-null    float64\n",
      " 1   malic_acid                    178 non-null    float64\n",
      " 2   ash                           178 non-null    float64\n",
      " 3   alcalinity_of_ash             178 non-null    float64\n",
      " 4   magnesium                     178 non-null    float64\n",
      " 5   total_phenols                 178 non-null    float64\n",
      " 6   flavanoids                    178 non-null    float64\n",
      " 7   nonflavanoid_phenols          178 non-null    float64\n",
      " 8   proanthocyanins               178 non-null    float64\n",
      " 9   color_intensity               178 non-null    float64\n",
      " 10  hue                           178 non-null    float64\n",
      " 11  od280/od315_of_diluted_wines  178 non-null    float64\n",
      " 12  proline                       178 non-null    float64\n",
      "dtypes: float64(13)\n",
      "memory usage: 18.2 KB\n"
     ]
    }
   ],
   "source": [
    "# View features\n",
    "wine_df.info()"
   ]
  },
  {
   "cell_type": "code",
   "execution_count": 4,
   "id": "bbc7abf6",
   "metadata": {},
   "outputs": [
    {
     "name": "stdout",
     "output_type": "stream",
     "text": [
      "Data shape: (178, 13)\n",
      "Label shape: (178,)\n",
      "Label classification type: {0, 1, 2}\n",
      "Label names: {'class_0', 'class_1', 'class_2'}\n"
     ]
    }
   ],
   "source": [
    "# Information\n",
    "print(\"Data shape:\", wine_df.shape)\n",
    "print(\"Label shape:\", wine_data.target.shape)\n",
    "print(\"Label classification type:\", set(wine_data.target))\n",
    "print(\"Label names:\", set(wine_data.target_names))"
   ]
  },
  {
   "cell_type": "markdown",
   "id": "d6947917",
   "metadata": {},
   "source": [
    "We found that this dataset consists of a total of **13** feature values, comprising **178** data items in total, and set up **3** types of classification as labels."
   ]
  },
  {
   "cell_type": "markdown",
   "id": "d57deafa",
   "metadata": {},
   "source": [
    "### 2. Analyze Dataset\n",
    "To begin analyzing the data, one first needs to check the data set for outliers or missing values."
   ]
  },
  {
   "cell_type": "code",
   "execution_count": 5,
   "id": "d7718a75",
   "metadata": {},
   "outputs": [
    {
     "name": "stdout",
     "output_type": "stream",
     "text": [
      "No missing values were detected。\n"
     ]
    }
   ],
   "source": [
    "def check_missing_values(df):\n",
    "    \"\"\"\n",
    "    Check for missing values in the DataFrame.\n",
    "    \"\"\"\n",
    "    missing_values = df.isnull().sum()\n",
    "    missing_values = missing_values[missing_values > 0]\n",
    "    missing_percentage = missing_values / len(df) * 100\n",
    "    \n",
    "    if missing_values.empty:\n",
    "        print(\"No missing values were detected。\")\n",
    "        return None\n",
    "    \n",
    "    missing_df = pd.DataFrame({'Missing Values': missing_values, 'Percentage': missing_percentage})\n",
    "    return missing_df\n",
    "\n",
    "miss_check_ret = check_missing_values(wine_df)\n",
    "miss_check_ret"
   ]
  },
  {
   "cell_type": "markdown",
   "id": "3681cbea",
   "metadata": {},
   "source": [
    "We use the Z-score, and if outliers are found, we replace these outliers with the average values of each feature."
   ]
  },
  {
   "cell_type": "code",
   "execution_count": 6,
   "id": "b48603e3",
   "metadata": {},
   "outputs": [
    {
     "data": {
      "text/html": [
       "<div>\n",
       "<style scoped>\n",
       "    .dataframe tbody tr th:only-of-type {\n",
       "        vertical-align: middle;\n",
       "    }\n",
       "\n",
       "    .dataframe tbody tr th {\n",
       "        vertical-align: top;\n",
       "    }\n",
       "\n",
       "    .dataframe thead th {\n",
       "        text-align: right;\n",
       "    }\n",
       "</style>\n",
       "<table border=\"1\" class=\"dataframe\">\n",
       "  <thead>\n",
       "    <tr style=\"text-align: right;\">\n",
       "      <th></th>\n",
       "      <th>alcohol</th>\n",
       "      <th>malic_acid</th>\n",
       "      <th>ash</th>\n",
       "      <th>alcalinity_of_ash</th>\n",
       "      <th>magnesium</th>\n",
       "      <th>total_phenols</th>\n",
       "      <th>flavanoids</th>\n",
       "      <th>nonflavanoid_phenols</th>\n",
       "      <th>proanthocyanins</th>\n",
       "      <th>color_intensity</th>\n",
       "      <th>hue</th>\n",
       "      <th>od280/od315_of_diluted_wines</th>\n",
       "      <th>proline</th>\n",
       "    </tr>\n",
       "  </thead>\n",
       "  <tbody>\n",
       "    <tr>\n",
       "      <th>0</th>\n",
       "      <td>14.23</td>\n",
       "      <td>1.71</td>\n",
       "      <td>2.43</td>\n",
       "      <td>15.6</td>\n",
       "      <td>127.0</td>\n",
       "      <td>2.80</td>\n",
       "      <td>3.06</td>\n",
       "      <td>0.28</td>\n",
       "      <td>2.29</td>\n",
       "      <td>5.64</td>\n",
       "      <td>1.04</td>\n",
       "      <td>3.92</td>\n",
       "      <td>1065.0</td>\n",
       "    </tr>\n",
       "    <tr>\n",
       "      <th>1</th>\n",
       "      <td>13.20</td>\n",
       "      <td>1.78</td>\n",
       "      <td>2.14</td>\n",
       "      <td>11.2</td>\n",
       "      <td>100.0</td>\n",
       "      <td>2.65</td>\n",
       "      <td>2.76</td>\n",
       "      <td>0.26</td>\n",
       "      <td>1.28</td>\n",
       "      <td>4.38</td>\n",
       "      <td>1.05</td>\n",
       "      <td>3.40</td>\n",
       "      <td>1050.0</td>\n",
       "    </tr>\n",
       "    <tr>\n",
       "      <th>2</th>\n",
       "      <td>13.16</td>\n",
       "      <td>2.36</td>\n",
       "      <td>2.67</td>\n",
       "      <td>18.6</td>\n",
       "      <td>101.0</td>\n",
       "      <td>2.80</td>\n",
       "      <td>3.24</td>\n",
       "      <td>0.30</td>\n",
       "      <td>2.81</td>\n",
       "      <td>5.68</td>\n",
       "      <td>1.03</td>\n",
       "      <td>3.17</td>\n",
       "      <td>1185.0</td>\n",
       "    </tr>\n",
       "    <tr>\n",
       "      <th>3</th>\n",
       "      <td>14.37</td>\n",
       "      <td>1.95</td>\n",
       "      <td>2.50</td>\n",
       "      <td>16.8</td>\n",
       "      <td>113.0</td>\n",
       "      <td>3.85</td>\n",
       "      <td>3.49</td>\n",
       "      <td>0.24</td>\n",
       "      <td>2.18</td>\n",
       "      <td>7.80</td>\n",
       "      <td>0.86</td>\n",
       "      <td>3.45</td>\n",
       "      <td>1480.0</td>\n",
       "    </tr>\n",
       "    <tr>\n",
       "      <th>4</th>\n",
       "      <td>13.24</td>\n",
       "      <td>2.59</td>\n",
       "      <td>2.87</td>\n",
       "      <td>21.0</td>\n",
       "      <td>118.0</td>\n",
       "      <td>2.80</td>\n",
       "      <td>2.69</td>\n",
       "      <td>0.39</td>\n",
       "      <td>1.82</td>\n",
       "      <td>4.32</td>\n",
       "      <td>1.04</td>\n",
       "      <td>2.93</td>\n",
       "      <td>735.0</td>\n",
       "    </tr>\n",
       "  </tbody>\n",
       "</table>\n",
       "</div>"
      ],
      "text/plain": [
       "   alcohol  malic_acid   ash  alcalinity_of_ash  magnesium  total_phenols  \\\n",
       "0    14.23        1.71  2.43               15.6      127.0           2.80   \n",
       "1    13.20        1.78  2.14               11.2      100.0           2.65   \n",
       "2    13.16        2.36  2.67               18.6      101.0           2.80   \n",
       "3    14.37        1.95  2.50               16.8      113.0           3.85   \n",
       "4    13.24        2.59  2.87               21.0      118.0           2.80   \n",
       "\n",
       "   flavanoids  nonflavanoid_phenols  proanthocyanins  color_intensity   hue  \\\n",
       "0        3.06                  0.28             2.29             5.64  1.04   \n",
       "1        2.76                  0.26             1.28             4.38  1.05   \n",
       "2        3.24                  0.30             2.81             5.68  1.03   \n",
       "3        3.49                  0.24             2.18             7.80  0.86   \n",
       "4        2.69                  0.39             1.82             4.32  1.04   \n",
       "\n",
       "   od280/od315_of_diluted_wines  proline  \n",
       "0                          3.92   1065.0  \n",
       "1                          3.40   1050.0  \n",
       "2                          3.17   1185.0  \n",
       "3                          3.45   1480.0  \n",
       "4                          2.93    735.0  "
      ]
     },
     "execution_count": 6,
     "metadata": {},
     "output_type": "execute_result"
    }
   ],
   "source": [
    "from scipy import stats\n",
    "\n",
    "def handle_outliers(df):\n",
    "    \"\"\"\n",
    "    Outliers were identified using the Z-score method and these were replaced by the mean of each feature.\n",
    "    \"\"\"\n",
    "    df_copy = df.copy()\n",
    "    z_scores = np.abs(stats.zscore(df_copy))\n",
    "    threshold = 3\n",
    "    outlier_positions = np.where(z_scores > threshold)\n",
    "    \n",
    "    for row, col in zip(*outlier_positions):\n",
    "        column_name = df_copy.columns[col]\n",
    "        mean_val = df_copy[column_name].mean()\n",
    "        df_copy.iloc[row, col] = mean_val\n",
    "        \n",
    "    return df_copy\n",
    "\n",
    "processed_df = handle_outliers(wine_df)\n",
    "processed_df.head()"
   ]
  },
  {
   "cell_type": "markdown",
   "id": "7d73a880",
   "metadata": {},
   "source": [
    "We use min-max normalization to standardize each feature, which is the most common method of standardization.\n",
    "$$X_{\\text{norm}} = \\frac{X - X_{\\text{min}}}{X_{\\text{max}} - X_{\\text{min}}}$$\n"
   ]
  },
  {
   "cell_type": "code",
   "execution_count": 7,
   "id": "db030390",
   "metadata": {},
   "outputs": [
    {
     "data": {
      "text/html": [
       "<div>\n",
       "<style scoped>\n",
       "    .dataframe tbody tr th:only-of-type {\n",
       "        vertical-align: middle;\n",
       "    }\n",
       "\n",
       "    .dataframe tbody tr th {\n",
       "        vertical-align: top;\n",
       "    }\n",
       "\n",
       "    .dataframe thead th {\n",
       "        text-align: right;\n",
       "    }\n",
       "</style>\n",
       "<table border=\"1\" class=\"dataframe\">\n",
       "  <thead>\n",
       "    <tr style=\"text-align: right;\">\n",
       "      <th></th>\n",
       "      <th>alcohol</th>\n",
       "      <th>malic_acid</th>\n",
       "      <th>ash</th>\n",
       "      <th>alcalinity_of_ash</th>\n",
       "      <th>magnesium</th>\n",
       "      <th>total_phenols</th>\n",
       "      <th>flavanoids</th>\n",
       "      <th>nonflavanoid_phenols</th>\n",
       "      <th>proanthocyanins</th>\n",
       "      <th>color_intensity</th>\n",
       "      <th>hue</th>\n",
       "      <th>od280/od315_of_diluted_wines</th>\n",
       "      <th>proline</th>\n",
       "    </tr>\n",
       "  </thead>\n",
       "  <tbody>\n",
       "    <tr>\n",
       "      <th>0</th>\n",
       "      <td>0.842105</td>\n",
       "      <td>0.197556</td>\n",
       "      <td>0.598361</td>\n",
       "      <td>0.279330</td>\n",
       "      <td>0.826087</td>\n",
       "      <td>0.627586</td>\n",
       "      <td>0.757660</td>\n",
       "      <td>0.283019</td>\n",
       "      <td>0.655052</td>\n",
       "      <td>0.416428</td>\n",
       "      <td>0.577320</td>\n",
       "      <td>0.970696</td>\n",
       "      <td>0.561341</td>\n",
       "    </tr>\n",
       "    <tr>\n",
       "      <th>1</th>\n",
       "      <td>0.571053</td>\n",
       "      <td>0.211813</td>\n",
       "      <td>0.360656</td>\n",
       "      <td>0.033520</td>\n",
       "      <td>0.434783</td>\n",
       "      <td>0.575862</td>\n",
       "      <td>0.674095</td>\n",
       "      <td>0.245283</td>\n",
       "      <td>0.303136</td>\n",
       "      <td>0.296084</td>\n",
       "      <td>0.587629</td>\n",
       "      <td>0.780220</td>\n",
       "      <td>0.550642</td>\n",
       "    </tr>\n",
       "    <tr>\n",
       "      <th>2</th>\n",
       "      <td>0.560526</td>\n",
       "      <td>0.329939</td>\n",
       "      <td>0.795082</td>\n",
       "      <td>0.446927</td>\n",
       "      <td>0.449275</td>\n",
       "      <td>0.627586</td>\n",
       "      <td>0.807799</td>\n",
       "      <td>0.320755</td>\n",
       "      <td>0.836237</td>\n",
       "      <td>0.420248</td>\n",
       "      <td>0.567010</td>\n",
       "      <td>0.695971</td>\n",
       "      <td>0.646933</td>\n",
       "    </tr>\n",
       "    <tr>\n",
       "      <th>3</th>\n",
       "      <td>0.878947</td>\n",
       "      <td>0.246436</td>\n",
       "      <td>0.655738</td>\n",
       "      <td>0.346369</td>\n",
       "      <td>0.623188</td>\n",
       "      <td>0.989655</td>\n",
       "      <td>0.877437</td>\n",
       "      <td>0.207547</td>\n",
       "      <td>0.616725</td>\n",
       "      <td>0.622732</td>\n",
       "      <td>0.391753</td>\n",
       "      <td>0.798535</td>\n",
       "      <td>0.857347</td>\n",
       "    </tr>\n",
       "    <tr>\n",
       "      <th>4</th>\n",
       "      <td>0.581579</td>\n",
       "      <td>0.376782</td>\n",
       "      <td>0.959016</td>\n",
       "      <td>0.581006</td>\n",
       "      <td>0.695652</td>\n",
       "      <td>0.627586</td>\n",
       "      <td>0.654596</td>\n",
       "      <td>0.490566</td>\n",
       "      <td>0.491289</td>\n",
       "      <td>0.290353</td>\n",
       "      <td>0.577320</td>\n",
       "      <td>0.608059</td>\n",
       "      <td>0.325963</td>\n",
       "    </tr>\n",
       "    <tr>\n",
       "      <th>...</th>\n",
       "      <td>...</td>\n",
       "      <td>...</td>\n",
       "      <td>...</td>\n",
       "      <td>...</td>\n",
       "      <td>...</td>\n",
       "      <td>...</td>\n",
       "      <td>...</td>\n",
       "      <td>...</td>\n",
       "      <td>...</td>\n",
       "      <td>...</td>\n",
       "      <td>...</td>\n",
       "      <td>...</td>\n",
       "      <td>...</td>\n",
       "    </tr>\n",
       "    <tr>\n",
       "      <th>173</th>\n",
       "      <td>0.705263</td>\n",
       "      <td>1.000000</td>\n",
       "      <td>0.614754</td>\n",
       "      <td>0.553073</td>\n",
       "      <td>0.362319</td>\n",
       "      <td>0.241379</td>\n",
       "      <td>0.075209</td>\n",
       "      <td>0.735849</td>\n",
       "      <td>0.226481</td>\n",
       "      <td>0.613181</td>\n",
       "      <td>0.164948</td>\n",
       "      <td>0.172161</td>\n",
       "      <td>0.329529</td>\n",
       "    </tr>\n",
       "    <tr>\n",
       "      <th>174</th>\n",
       "      <td>0.623684</td>\n",
       "      <td>0.645621</td>\n",
       "      <td>0.639344</td>\n",
       "      <td>0.692737</td>\n",
       "      <td>0.463768</td>\n",
       "      <td>0.282759</td>\n",
       "      <td>0.114206</td>\n",
       "      <td>0.566038</td>\n",
       "      <td>0.348432</td>\n",
       "      <td>0.574976</td>\n",
       "      <td>0.226804</td>\n",
       "      <td>0.106227</td>\n",
       "      <td>0.336662</td>\n",
       "    </tr>\n",
       "    <tr>\n",
       "      <th>175</th>\n",
       "      <td>0.589474</td>\n",
       "      <td>0.720978</td>\n",
       "      <td>0.459016</td>\n",
       "      <td>0.525140</td>\n",
       "      <td>0.724638</td>\n",
       "      <td>0.210345</td>\n",
       "      <td>0.097493</td>\n",
       "      <td>0.566038</td>\n",
       "      <td>0.327526</td>\n",
       "      <td>0.851958</td>\n",
       "      <td>0.113402</td>\n",
       "      <td>0.106227</td>\n",
       "      <td>0.397290</td>\n",
       "    </tr>\n",
       "    <tr>\n",
       "      <th>176</th>\n",
       "      <td>0.563158</td>\n",
       "      <td>0.376782</td>\n",
       "      <td>0.549180</td>\n",
       "      <td>0.525140</td>\n",
       "      <td>0.724638</td>\n",
       "      <td>0.231034</td>\n",
       "      <td>0.094708</td>\n",
       "      <td>0.754717</td>\n",
       "      <td>0.365854</td>\n",
       "      <td>0.765998</td>\n",
       "      <td>0.123711</td>\n",
       "      <td>0.128205</td>\n",
       "      <td>0.400856</td>\n",
       "    </tr>\n",
       "    <tr>\n",
       "      <th>177</th>\n",
       "      <td>0.815789</td>\n",
       "      <td>0.684318</td>\n",
       "      <td>0.852459</td>\n",
       "      <td>0.776536</td>\n",
       "      <td>0.376812</td>\n",
       "      <td>0.368966</td>\n",
       "      <td>0.116992</td>\n",
       "      <td>0.811321</td>\n",
       "      <td>0.327526</td>\n",
       "      <td>0.756447</td>\n",
       "      <td>0.134021</td>\n",
       "      <td>0.120879</td>\n",
       "      <td>0.201141</td>\n",
       "    </tr>\n",
       "  </tbody>\n",
       "</table>\n",
       "<p>178 rows × 13 columns</p>\n",
       "</div>"
      ],
      "text/plain": [
       "      alcohol  malic_acid       ash  alcalinity_of_ash  magnesium  \\\n",
       "0    0.842105    0.197556  0.598361           0.279330   0.826087   \n",
       "1    0.571053    0.211813  0.360656           0.033520   0.434783   \n",
       "2    0.560526    0.329939  0.795082           0.446927   0.449275   \n",
       "3    0.878947    0.246436  0.655738           0.346369   0.623188   \n",
       "4    0.581579    0.376782  0.959016           0.581006   0.695652   \n",
       "..        ...         ...       ...                ...        ...   \n",
       "173  0.705263    1.000000  0.614754           0.553073   0.362319   \n",
       "174  0.623684    0.645621  0.639344           0.692737   0.463768   \n",
       "175  0.589474    0.720978  0.459016           0.525140   0.724638   \n",
       "176  0.563158    0.376782  0.549180           0.525140   0.724638   \n",
       "177  0.815789    0.684318  0.852459           0.776536   0.376812   \n",
       "\n",
       "     total_phenols  flavanoids  nonflavanoid_phenols  proanthocyanins  \\\n",
       "0         0.627586    0.757660              0.283019         0.655052   \n",
       "1         0.575862    0.674095              0.245283         0.303136   \n",
       "2         0.627586    0.807799              0.320755         0.836237   \n",
       "3         0.989655    0.877437              0.207547         0.616725   \n",
       "4         0.627586    0.654596              0.490566         0.491289   \n",
       "..             ...         ...                   ...              ...   \n",
       "173       0.241379    0.075209              0.735849         0.226481   \n",
       "174       0.282759    0.114206              0.566038         0.348432   \n",
       "175       0.210345    0.097493              0.566038         0.327526   \n",
       "176       0.231034    0.094708              0.754717         0.365854   \n",
       "177       0.368966    0.116992              0.811321         0.327526   \n",
       "\n",
       "     color_intensity       hue  od280/od315_of_diluted_wines   proline  \n",
       "0           0.416428  0.577320                      0.970696  0.561341  \n",
       "1           0.296084  0.587629                      0.780220  0.550642  \n",
       "2           0.420248  0.567010                      0.695971  0.646933  \n",
       "3           0.622732  0.391753                      0.798535  0.857347  \n",
       "4           0.290353  0.577320                      0.608059  0.325963  \n",
       "..               ...       ...                           ...       ...  \n",
       "173         0.613181  0.164948                      0.172161  0.329529  \n",
       "174         0.574976  0.226804                      0.106227  0.336662  \n",
       "175         0.851958  0.113402                      0.106227  0.397290  \n",
       "176         0.765998  0.123711                      0.128205  0.400856  \n",
       "177         0.756447  0.134021                      0.120879  0.201141  \n",
       "\n",
       "[178 rows x 13 columns]"
      ]
     },
     "execution_count": 7,
     "metadata": {},
     "output_type": "execute_result"
    }
   ],
   "source": [
    "def min_max_normalization(df):\n",
    "    \"\"\"\n",
    "    All numerical features in Pandas DataFrame were Min-Max normalized.\n",
    "    \"\"\"\n",
    "    normalized_df = df.copy()\n",
    "    \n",
    "    for column in normalized_df.columns:\n",
    "        if pd.api.types.is_numeric_dtype(normalized_df[column]):\n",
    "            min_val = normalized_df[column].min()\n",
    "            max_val = normalized_df[column].max()\n",
    "            normalized_df[column] = (normalized_df[column] - min_val) / (max_val - min_val)\n",
    "    \n",
    "    return normalized_df\n",
    "\n",
    "norm_df = min_max_normalization(processed_df)\n",
    "norm_df"
   ]
  },
  {
   "cell_type": "markdown",
   "id": "a4511db2",
   "metadata": {},
   "source": [
    "As observed, the data distribution after normalization lies within the range of 0 to 1, indicating normalized floating-point numbers. In essence, normalization should not alter the underlying data distribution. Hence, we sample the data to illustrate the distribution."
   ]
  },
  {
   "cell_type": "code",
   "execution_count": 8,
   "id": "575df4d5",
   "metadata": {},
   "outputs": [
    {
     "data": {
      "image/png": "[encoded data removed]",
      "text/plain": [
       "<Figure size 864x432 with 2 Axes>"
      ]
     },
     "metadata": {
      "needs_background": "light"
     },
     "output_type": "display_data"
    }
   ],
   "source": [
    "def plot_dimension_comparison(data1, data2, label1=\"Data 1\", label2=\"Data 2\", dimension_name=\"Dimension\"):\n",
    "    fig, axes = plt.subplots(1, 2, figsize=(12, 6))\n",
    "\n",
    "    axes[0].scatter(data1, range(len(data1)), label=label1, color='blue', alpha=0.6)\n",
    "    axes[0].set_xlabel(dimension_name)\n",
    "    axes[0].set_ylabel('Data Index')\n",
    "    axes[0].set_title(f'{label1} - {dimension_name} Distribution')\n",
    "\n",
    "    axes[1].scatter(data2, range(len(data2)), label=label2, color='red', alpha=0.6)\n",
    "    axes[1].set_xlabel(dimension_name)\n",
    "    axes[1].set_ylabel('Data Index')\n",
    "    axes[1].set_title(f'{label2} - {dimension_name} Distribution')\n",
    "\n",
    "    plt.tight_layout()\n",
    "    plt.show()\n",
    "\n",
    "# Displaying the comparison distribution plot of the \"magnesium\" feature before and after normalization.\n",
    "magnesium_index = 4\n",
    "plot_dimension_comparison(\n",
    "    processed_df.to_numpy()[:, magnesium_index], norm_df.to_numpy()[:, magnesium_index])"
   ]
  },
  {
   "cell_type": "markdown",
   "id": "a7ee8c21",
   "metadata": {},
   "source": [
    "From the image, it can be observed that the data distribution remains consistent without any deformation."
   ]
  },
  {
   "cell_type": "markdown",
   "id": "3b556f3b",
   "metadata": {},
   "source": [
    "Here, we complete the actions of data analysis and data preprocessing."
   ]
  },
  {
   "cell_type": "markdown",
   "id": "ef9d0936",
   "metadata": {},
   "source": [
    "### 3. K-means clustering"
   ]
  },
  {
   "cell_type": "markdown",
   "id": "adc838c4",
   "metadata": {},
   "source": [
    "Use the K-means clustering algorithm to cluster the data.We implement a KMeans class to conduct this experiment and adopt L1 and L2 distance functions as two distance metrics to calculate the distances between data points and centroids."
   ]
  },
  {
   "cell_type": "code",
   "execution_count": 9,
   "id": "3c486e6b",
   "metadata": {},
   "outputs": [],
   "source": [
    "import numpy as np\n",
    "from sklearn.metrics import silhouette_score\n",
    "\n",
    "class KMeans:\n",
    "    def __init__(self, n_clusters=3, max_iters=100, distance_func=None):\n",
    "        self.n_clusters = n_clusters\n",
    "        self.max_iters = max_iters\n",
    "        # If no distance function is specified, Euclidean distance is used\n",
    "        self.distance_func = distance_func if distance_func is not None else self.euclidean_distance\n",
    "        self.centroids = None\n",
    "\n",
    "    @staticmethod\n",
    "    def euclidean_distance(a, b):\n",
    "        if a.ndim == 1:\n",
    "            a = a.reshape(1, -1)\n",
    "        if b.ndim == 1:\n",
    "            b = b.reshape(1, -1)\n",
    "        return np.sqrt(np.sum((a - b) ** 2, axis=1))\n",
    "    \n",
    "    @staticmethod\n",
    "    def manhattan_distance(a, b):\n",
    "        if a.ndim == 1:\n",
    "            a = a.reshape(1, -1)\n",
    "        if b.ndim == 1:\n",
    "            b = b.reshape(1, -1)\n",
    "        return np.sum(np.abs(a - b), axis=1)\n",
    "    \n",
    "    def compute_sse(self, X):\n",
    "        distances = np.array([np.min([np.sum((x - centroid) ** 2) for centroid in self.centroids]) for x in X])\n",
    "        sse = np.sum(distances)\n",
    "        return sse\n",
    "    \n",
    "    def fit(self, X):\n",
    "        # Randomly initialize the cluster center\n",
    "        indices = np.random.choice(X.shape[0], self.n_clusters, replace=False)\n",
    "        self.centroids = X[indices]\n",
    "\n",
    "        for _ in range(self.max_iters):\n",
    "            # Assignment step: Assign the nearest cluster center to each sample\n",
    "            clusters = np.array([np.argmin([self.distance_func(x, centroid) for centroid in self.centroids]) for x in X])\n",
    "            \n",
    "            # Update step: Calculate the new cluster center\n",
    "            new_centroids = np.array([X[clusters == i].mean(axis=0) for i in range(self.n_clusters)])\n",
    "            \n",
    "            # Check for convergence (whether the cluster center no longer changes)\n",
    "            if np.all(self.centroids == new_centroids):\n",
    "                break\n",
    "            self.centroids = new_centroids\n",
    "\n",
    "    def predict(self, X):\n",
    "        # Cluster label prediction is performed on the given data\n",
    "        predictions = np.array([np.argmin([self.distance_func(x, centroid) for centroid in self.centroids]) for x in X])\n",
    "        return predictions\n"
   ]
  },
  {
   "cell_type": "markdown",
   "id": "79d52a40",
   "metadata": {},
   "source": [
    "Implement a fitting function to execute computation and plot the data during the calculation process."
   ]
  },
  {
   "cell_type": "code",
   "execution_count": 10,
   "id": "dc17a0bf",
   "metadata": {},
   "outputs": [],
   "source": [
    "def kmeans_fitting(X, k_range, iters, distance_func):\n",
    "    \"\"\"\n",
    "    Processing and view.\n",
    "    \"\"\"\n",
    "    silhouette_avg_scores = []\n",
    "    sse_scores = []\n",
    "    for n_clusters in k_range:\n",
    "        kmeans = KMeans(n_clusters=n_clusters, max_iters=iters, distance_func=distance_func)\n",
    "        kmeans.fit(X)\n",
    "        cluster_labels = kmeans.predict(X)\n",
    "        silhouette_avg = silhouette_score(X, cluster_labels)\n",
    "        silhouette_avg_scores.append(silhouette_avg)\n",
    "        sse = kmeans.compute_sse(X)\n",
    "        sse_scores.append(sse)\n",
    "    \n",
    "    plt.figure(figsize=(10, 6))\n",
    "    plt.plot(k_range, sse_scores, marker='o')\n",
    "    plt.title('Elbow Method')\n",
    "    plt.xlabel('Number of clusters')\n",
    "    plt.ylabel('SSE')\n",
    "    plt.show()\n",
    "\n",
    "    plt.figure(figsize=(10, 6))\n",
    "    plt.plot(k_range, silhouette_avg_scores, marker='o')\n",
    "    plt.title('Silhouette Coefficients')\n",
    "    plt.xlabel('Number of clusters')\n",
    "    plt.ylabel('Silhouette Coefficient')\n",
    "    plt.show()"
   ]
  },
  {
   "cell_type": "markdown",
   "id": "94f0a822",
   "metadata": {},
   "source": [
    "#### Use L1-distance fitting"
   ]
  },
  {
   "cell_type": "code",
   "execution_count": 11,
   "id": "1781d2b1",
   "metadata": {},
   "outputs": [
    {
     "data": {
      "image/png": "[encoded data removed]",
      "text/plain": [
       "<Figure size 720x432 with 1 Axes>"
      ]
     },
     "metadata": {
      "needs_background": "light"
     },
     "output_type": "display_data"
    },
    {
     "data": {
      "image/png": "[encoded data removed]",
      "text/plain": [
       "<Figure size 720x432 with 1 Axes>"
      ]
     },
     "metadata": {
      "needs_background": "light"
     },
     "output_type": "display_data"
    }
   ],
   "source": [
    "L1 = KMeans.manhattan_distance\n",
    "L2 = KMeans.euclidean_distance\n",
    "k_range = list(range(2, 10))\n",
    "\n",
    "kmeans_fitting(norm_df.to_numpy(), k_range, 100, L1)"
   ]
  },
  {
   "cell_type": "markdown",
   "id": "64e4423f",
   "metadata": {},
   "source": [
    "#### Use L2-distance fitting"
   ]
  },
  {
   "cell_type": "code",
   "execution_count": 12,
   "id": "30fbcd25",
   "metadata": {},
   "outputs": [
    {
     "data": {
      "image/png": "[encoded data removed]",
      "text/plain": [
       "<Figure size 720x432 with 1 Axes>"
      ]
     },
     "metadata": {
      "needs_background": "light"
     },
     "output_type": "display_data"
    },
    {
     "data": {
      "image/png": "[encoded data removed]",
      "text/plain": [
       "<Figure size 720x432 with 1 Axes>"
      ]
     },
     "metadata": {
      "needs_background": "light"
     },
     "output_type": "display_data"
    }
   ],
   "source": [
    "L1 = KMeans.manhattan_distance\n",
    "L2 = KMeans.euclidean_distance\n",
    "k_range = list(range(2, 10))\n",
    "\n",
    "kmeans_fitting(norm_df.to_numpy(), k_range, 100, L2)"
   ]
  },
  {
   "cell_type": "markdown",
   "id": "badc1b03",
   "metadata": {},
   "source": [
    "### 4. Analyze the results\n",
    "\n",
    "Based on the above analysis and some prior knowledge, we select **k=3** as the optimal number of clusters.\n",
    "\n"
   ]
  },
  {
   "cell_type": "code",
   "execution_count": 13,
   "id": "a719eb38",
   "metadata": {},
   "outputs": [
    {
     "data": {
      "image/png": "[encoded data removed]",
      "text/plain": [
       "<Figure size 576x432 with 1 Axes>"
      ]
     },
     "metadata": {
      "needs_background": "light"
     },
     "output_type": "display_data"
    }
   ],
   "source": [
    "X = norm_df.to_numpy()\n",
    "\n",
    "# Initialize the K-means model\n",
    "kmeans = KMeans(n_clusters=3)\n",
    "\n",
    "# fitting\n",
    "kmeans.fit(X)\n",
    "labels = kmeans.predict(X)\n",
    "\n",
    "# Get the cluster center\n",
    "centroids = kmeans.centroids\n",
    "\n",
    "# Plot the clustering results\n",
    "plt.figure(figsize=(8, 6))\n",
    "for i in range(kmeans.n_clusters):\n",
    "    plt.scatter(X[labels == i][:, 0], X[labels == i][:, 1], label=f'Cluster {i+1}')\n",
    "\n",
    "plt.scatter(centroids[:, 0], centroids[:, 1], c='red', marker='x', label='Centroids')\n",
    "\n",
    "plt.xlabel('Feature 1')\n",
    "plt.ylabel('Feature 2')\n",
    "plt.title('K-means Clustering')\n",
    "plt.legend()\n",
    "plt.show()"
   ]
  },
  {
   "cell_type": "markdown",
   "id": "a622068d",
   "metadata": {},
   "source": [
    "### 5. Extended: Use the KNN classification algorithm"
   ]
  },
  {
   "cell_type": "markdown",
   "id": "42ae8716",
   "metadata": {},
   "source": [
    "This is a dataset with multiple class labels. We attempt to implement a KNN classifier to conduct a classification experiment."
   ]
  },
  {
   "cell_type": "code",
   "execution_count": 14,
   "id": "f3e4b7a1",
   "metadata": {},
   "outputs": [],
   "source": [
    "import numpy as np\n",
    "\n",
    "class KNN:\n",
    "    def __init__(self, k=3, loss='L2'):\n",
    "        self.k = k\n",
    "        if loss == 'L1':\n",
    "            self.loss_func = self.manhattan_distance\n",
    "        elif loss == 'L2':\n",
    "            self.loss_func = self.euclidean_distance\n",
    "        else:\n",
    "            raise NotImplemented\n",
    "\n",
    "    def fit(self, X, y):\n",
    "        self.X_train = X\n",
    "        self.y_train = y\n",
    "    \n",
    "    @staticmethod\n",
    "    def euclidean_distance(a, b):\n",
    "        return np.sqrt(np.sum((a - b) ** 2, axis=1))\n",
    "    \n",
    "    @staticmethod\n",
    "    def manhattan_distance(a, b):\n",
    "        return np.sum(np.abs(a - b), axis=1)\n",
    "\n",
    "    def predict(self, X_test):\n",
    "        y_pred = []\n",
    "        for x in X_test:\n",
    "            # Calculate the distance between the test sample and all the training samples\n",
    "            distances = self.loss_func(x, self.X_train)\n",
    "            # The index of the nearest k samples is obtained\n",
    "            nearest_indices = np.argsort(distances)[:self.k]\n",
    "            # Get the labels of these k samples\n",
    "            nearest_labels = self.y_train[nearest_indices]\n",
    "            # The predictive labels of the test sample are determined according to the voting mechanism\n",
    "            pred_label = np.argmax(np.bincount(nearest_labels))\n",
    "            y_pred.append(pred_label)\n",
    "        return np.array(y_pred)\n",
    "    \n",
    "    def evaluate(self, X_test, y_test):\n",
    "        y_pred = self.predict(X_test)\n",
    "        accuracy = np.mean(y_pred == y_test)\n",
    "        return accuracy"
   ]
  },
  {
   "cell_type": "markdown",
   "id": "99e0186e",
   "metadata": {},
   "source": [
    "Split dataset to train and test."
   ]
  },
  {
   "cell_type": "code",
   "execution_count": 15,
   "id": "5358bd79",
   "metadata": {},
   "outputs": [],
   "source": [
    "def split_dataset(X, y, train_rate=0.8):\n",
    "    num_samples = X.shape[0]\n",
    "    # Shuffle the data set at random\n",
    "    indices = np.random.permutation(num_samples)\n",
    "    X_shuffled = X[indices]\n",
    "    y_shuffled = y[indices]\n",
    "    split_point = int(num_samples * train_rate)\n",
    "    # Split the training set and test set\n",
    "    X_train, X_test = X_shuffled[:split_point], X_shuffled[split_point:]\n",
    "    y_train, y_test = y_shuffled[:split_point], y_shuffled[split_point:]\n",
    "    return X_train, X_test, y_train, y_test"
   ]
  },
  {
   "cell_type": "code",
   "execution_count": 16,
   "id": "38138ccf",
   "metadata": {},
   "outputs": [
    {
     "name": "stdout",
     "output_type": "stream",
     "text": [
      "Total: 178\n",
      "X_train: 124\n",
      "X_test: 54\n"
     ]
    }
   ],
   "source": [
    "X = norm_df.to_numpy()\n",
    "y = wine_data.target\n",
    "X_train, X_test, y_train, y_test = split_dataset(X, y, train_rate=0.7)\n",
    "print(f'Total: {X.shape[0]}')\n",
    "print(f'X_train: {X_train.shape[0]}')\n",
    "print(f'X_test: {X_test.shape[0]}')"
   ]
  },
  {
   "cell_type": "markdown",
   "id": "0f3556fe",
   "metadata": {},
   "source": [
    "#### Use L1-distance"
   ]
  },
  {
   "cell_type": "code",
   "execution_count": 17,
   "id": "2e58ed4e",
   "metadata": {},
   "outputs": [
    {
     "name": "stdout",
     "output_type": "stream",
     "text": [
      "accuracy=0.9814814814814815\n"
     ]
    }
   ],
   "source": [
    "k = 3\n",
    "knn_l1 = KNN(k=k, loss='L1')\n",
    "knn_l1.fit(X_train, y_train)\n",
    "acc = knn_l1.evaluate(X_test, y_test)\n",
    "print(f'accuracy={acc}')"
   ]
  },
  {
   "cell_type": "markdown",
   "id": "693d9e4e",
   "metadata": {},
   "source": [
    "#### Use L2-distance"
   ]
  },
  {
   "cell_type": "code",
   "execution_count": 18,
   "id": "1a5e8265",
   "metadata": {},
   "outputs": [
    {
     "name": "stdout",
     "output_type": "stream",
     "text": [
      "accuracy=0.9629629629629629\n"
     ]
    }
   ],
   "source": [
    "knn_l2 = KNN(k=k, loss='L2')\n",
    "knn_l2.fit(X_train, y_train)\n",
    "acc = knn_l2.evaluate(X_test, y_test)\n",
    "print(f'accuracy={acc}')"
   ]
  },
  {
   "cell_type": "markdown",
   "id": "5ddc46f0",
   "metadata": {},
   "source": [
    "#### Conclusion"
   ]
  },
  {
   "cell_type": "markdown",
   "id": "000c6480",
   "metadata": {},
   "source": [
    "Based on the above analysis, we can conclude that in simple datasets with relatively low inter-feature correlations, the performance of the KNN algorithm may not be significantly affected by the choice of distance metric.  In such scenarios, even when using L1 and L2 norms as distance metrics, the classification results may not differ much.  Therefore, the choice of distance metric may not significantly impact the algorithm's performance."
   ]
  }
 ],
 "metadata": {
  "kernelspec": {
   "display_name": "Python 3",
   "language": "python",
   "name": "python3"
  },
  "language_info": {
   "codemirror_mode": {
    "name": "ipython",
    "version": 3
   },
   "file_extension": ".py",
   "mimetype": "text/x-python",
   "name": "python",
   "nbconvert_exporter": "python",
   "pygments_lexer": "ipython3",
   "version": "3.7.10"
  }
 },
 "nbformat": 4,
 "nbformat_minor": 5
}
