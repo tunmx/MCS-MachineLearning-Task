{
 "cells": [
  {
   "cell_type": "markdown",
   "id": "734fb5c1",
   "metadata": {},
   "source": [
    "# Competition\n",
    "\n",
    "You need to take part in the competition https://www.kaggle.com/competitions/titanic/data. You can use any sources, provided you understand how the borrowed material works. Use the models that we studied in practical classes. Good luck to you)"
   ]
  },
  {
   "cell_type": "markdown",
   "id": "28a696f3",
   "metadata": {},
   "source": [
    "## Import Package\n",
    "\n",
    "I'm using pytorch for this task because it's a machine learning toolbox I'm familiar with."
   ]
  },
  {
   "cell_type": "code",
   "execution_count": 16,
   "id": "9870b5c6",
   "metadata": {},
   "outputs": [],
   "source": [
    "import pandas as pd\n",
    "import numpy as np\n",
    "import torch\n",
    "import torch.nn as nn\n",
    "import torch.optim as optim\n",
    "from sklearn.model_selection import train_test_split\n",
    "from sklearn.preprocessing import StandardScaler"
   ]
  },
  {
   "cell_type": "markdown",
   "id": "a1637659",
   "metadata": {},
   "source": [
    "## Prepare Data"
   ]
  },
  {
   "cell_type": "code",
   "execution_count": 17,
   "id": "becdaffb",
   "metadata": {},
   "outputs": [],
   "source": [
    "train_data = pd.read_csv('titanic/train.csv')\n",
    "test_data = pd.read_csv('titanic/test.csv')"
   ]
  },
  {
   "cell_type": "markdown",
   "id": "7ead549c",
   "metadata": {},
   "source": [
    "## Missing Value Processing"
   ]
  },
  {
   "cell_type": "code",
   "execution_count": 18,
   "id": "d4f322e4",
   "metadata": {},
   "outputs": [],
   "source": [
    "train_data['Age'].fillna(train_data['Age'].median(), inplace=True)\n",
    "train_data['Embarked'].fillna(train_data['Embarked'].mode()[0], inplace=True)\n",
    "train_data['Fare'].fillna(train_data['Fare'].median(), inplace=True)\n",
    "test_data['Age'].fillna(test_data['Age'].median(), inplace=True)\n",
    "test_data['Fare'].fillna(test_data['Fare'].median(), inplace=True)\n",
    "test_data['Embarked'].fillna(test_data['Embarked'].mode()[0], inplace=True)\n",
    "\n",
    "train_data['Title'] = train_data['Name'].apply(lambda name: name.split(',')[1].split('.')[0].strip())\n",
    "test_data['Title'] = test_data['Name'].apply(lambda name: name.split(',')[1].split('.')[0].strip())"
   ]
  },
  {
   "cell_type": "markdown",
   "id": "c9eb44cb",
   "metadata": {},
   "source": [
    "## One-Hot Encode"
   ]
  },
  {
   "cell_type": "code",
   "execution_count": 19,
   "id": "cdc1c013",
   "metadata": {},
   "outputs": [],
   "source": [
    "train_data = pd.get_dummies(train_data, columns=['Sex', 'Embarked', 'Title'])\n",
    "test_data = pd.get_dummies(test_data, columns=['Sex', 'Embarked', 'Title'])"
   ]
  },
  {
   "cell_type": "markdown",
   "id": "d8b11cc3",
   "metadata": {},
   "source": [
    "## Delete redundant data"
   ]
  },
  {
   "cell_type": "code",
   "execution_count": 20,
   "id": "3fe9c7e4",
   "metadata": {},
   "outputs": [],
   "source": [
    "train_data.drop(['Name', 'Ticket', 'Cabin'], axis=1, inplace=True)\n",
    "test_data.drop(['Name', 'Ticket', 'Cabin'], axis=1, inplace=True)\n",
    "\n",
    "missing_cols = set(train_data.columns) - set(test_data.columns)\n",
    "for col in missing_cols:\n",
    "    test_data[col] = 0\n",
    "test_data = test_data[train_data.columns.drop('Survived')]"
   ]
  },
  {
   "cell_type": "markdown",
   "id": "fd600692",
   "metadata": {},
   "source": [
    "## Data Partitioning\n",
    "We divide the data into two parts: the training set and the test set to verify the model."
   ]
  },
  {
   "cell_type": "code",
   "execution_count": 21,
   "id": "3c28dfab",
   "metadata": {},
   "outputs": [],
   "source": [
    "X = train_data.drop(['Survived', 'PassengerId'], axis=1)\n",
    "y = train_data['Survived']\n",
    "X_test = test_data.drop(['PassengerId'], axis=1)\n",
    "\n",
    "\n",
    "scaler = StandardScaler()\n",
    "X = scaler.fit_transform(X)\n",
    "X_test = scaler.transform(X_test)"
   ]
  },
  {
   "cell_type": "markdown",
   "id": "3417b99f",
   "metadata": {},
   "source": [
    "## MLP Network\n",
    "\n",
    "Define an MLP network with four linear layers."
   ]
  },
  {
   "cell_type": "code",
   "execution_count": 22,
   "id": "d9a1ad1a",
   "metadata": {},
   "outputs": [],
   "source": [
    "class TitanicModel(nn.Module):\n",
    "    def __init__(self):\n",
    "        super(TitanicModel, self).__init__()\n",
    "        self.layer1 = nn.Linear(X.shape[1], 64)\n",
    "        self.layer2 = nn.Linear(64, 32)\n",
    "        self.layer3 = nn.Linear(32, 16)\n",
    "        self.layer4 = nn.Linear(16, 2)\n",
    "        self.relu = nn.ReLU()\n",
    "        self.dropout = nn.Dropout(p=0.5)\n",
    "        self.softmax = nn.Softmax(dim=1)\n",
    "\n",
    "    def forward(self, x):\n",
    "        x = self.relu(self.layer1(x))\n",
    "        x = self.dropout(x)\n",
    "        x = self.relu(self.layer2(x))\n",
    "        x = self.dropout(x)\n",
    "        x = self.relu(self.layer3(x))\n",
    "        x = self.dropout(x)\n",
    "        x = self.softmax(self.layer4(x))\n",
    "        return x\n"
   ]
  },
  {
   "cell_type": "markdown",
   "id": "d1442eb3",
   "metadata": {},
   "source": [
    "## Start training model\n",
    "\n",
    "We take advantage of the principle of gradient descent, use Adam as an optimizer, and divide the data into 200 epochal backpropagation training."
   ]
  },
  {
   "cell_type": "code",
   "execution_count": 23,
   "id": "febb0424",
   "metadata": {},
   "outputs": [
    {
     "name": "stdout",
     "output_type": "stream",
     "text": [
      "Epoch [20/200], Loss: 0.6628, Val Loss: 0.6690, Val Accuracy: 0.5866\n",
      "Epoch [40/200], Loss: 0.6241, Val Loss: 0.6245, Val Accuracy: 0.6145\n",
      "Epoch [60/200], Loss: 0.5571, Val Loss: 0.5396, Val Accuracy: 0.7821\n",
      "Epoch [80/200], Loss: 0.5196, Val Loss: 0.5110, Val Accuracy: 0.8045\n",
      "Epoch [100/200], Loss: 0.4986, Val Loss: 0.5025, Val Accuracy: 0.8101\n",
      "Epoch [120/200], Loss: 0.4786, Val Loss: 0.5019, Val Accuracy: 0.7989\n",
      "Epoch [140/200], Loss: 0.4744, Val Loss: 0.4975, Val Accuracy: 0.8101\n",
      "Epoch [160/200], Loss: 0.4697, Val Loss: 0.4961, Val Accuracy: 0.8212\n",
      "Epoch [180/200], Loss: 0.4755, Val Loss: 0.4940, Val Accuracy: 0.8268\n",
      "Epoch [200/200], Loss: 0.4744, Val Loss: 0.4929, Val Accuracy: 0.8156\n",
      "Prediction results have been saved to 'submission.csv'.\n"
     ]
    }
   ],
   "source": [
    "X_train, X_val, y_train, y_val = train_test_split(X, y, test_size=0.2, random_state=42)\n",
    "X_train = torch.tensor(X_train, dtype=torch.float32)\n",
    "X_val = torch.tensor(X_val, dtype=torch.float32)\n",
    "y_train = torch.tensor(y_train.values, dtype=torch.long)\n",
    "y_val = torch.tensor(y_val.values, dtype=torch.long)\n",
    "X_test = torch.tensor(X_test, dtype=torch.float32)\n",
    "\n",
    "# Initialize the model, loss function, and optimizer\n",
    "model = TitanicModel()\n",
    "criterion = nn.CrossEntropyLoss()\n",
    "optimizer = optim.Adam(model.parameters(), lr=0.001)\n",
    "\n",
    "# Train the model\n",
    "num_epochs = 200\n",
    "for epoch in range(num_epochs):\n",
    "    model.train()\n",
    "    optimizer.zero_grad()\n",
    "    outputs = model(X_train)\n",
    "    loss = criterion(outputs, y_train)\n",
    "    loss.backward()\n",
    "    optimizer.step()\n",
    "\n",
    "    if (epoch+1) % 20 == 0:\n",
    "        model.eval()\n",
    "        with torch.no_grad():\n",
    "            val_outputs = model(X_val)\n",
    "            val_loss = criterion(val_outputs, y_val)\n",
    "            _, val_preds = torch.max(val_outputs, 1)\n",
    "            val_accuracy = (val_preds == y_val).float().mean()\n",
    "            print(f'Epoch [{epoch+1}/{num_epochs}], Loss: {loss.item():.4f}, Val Loss: {val_loss.item():.4f}, Val Accuracy: {val_accuracy:.4f}')\n",
    "\n",
    "\n",
    "# Generate prediction results\n",
    "model.eval()\n",
    "with torch.no_grad():\n",
    "    test_outputs = model(X_test)\n",
    "    _, test_preds = torch.max(test_outputs, 1)\n",
    "\n",
    "# Create the results file\n",
    "submission = pd.DataFrame({\n",
    "    'PassengerId': test_data['PassengerId'],\n",
    "    'Survived': test_preds.numpy()\n",
    "})\n",
    "submission.to_csv('submission.csv', index=False)\n",
    "\n",
    "print(\"Prediction results have been saved to 'submission.csv'.\")\n"
   ]
  }
 ],
 "metadata": {
  "kernelspec": {
   "display_name": "Python 3 (ipykernel)",
   "language": "python",
   "name": "python3"
  },
  "language_info": {
   "codemirror_mode": {
    "name": "ipython",
    "version": 3
   },
   "file_extension": ".py",
   "mimetype": "text/x-python",
   "name": "python",
   "nbconvert_exporter": "python",
   "pygments_lexer": "ipython3",
   "version": "3.7.11"
  }
 },
 "nbformat": 4,
 "nbformat_minor": 5
}
